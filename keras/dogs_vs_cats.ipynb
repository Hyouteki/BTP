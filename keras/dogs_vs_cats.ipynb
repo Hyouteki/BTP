{
 "cells": [
  {
   "cell_type": "code",
   "execution_count": null,
   "metadata": {},
   "outputs": [],
   "source": [
    "import tensorflow as tf\n",
    "from tensorflow import keras\n",
    "from keras.models import Sequential\n",
    "from keras.layers import Dense, Activation, Flatten, Conv2D, MaxPool2D\n",
    "from keras.optimizers.legacy import Adam\n",
    "from keras.metrics import categorical_crossentropy\n",
    "from keras.preprocessing.image import ImageDataGenerator\n",
    "from sklearn.metrics import confusion_matrix\n",
    "import itertools\n",
    "import os\n",
    "import shutil\n",
    "import random\n",
    "import glob\n",
    "import matplotlib.pyplot as plt\n",
    "import warnings\n",
    "%matplotlib inline"
   ]
  },
  {
   "cell_type": "code",
   "execution_count": null,
   "metadata": {},
   "outputs": [],
   "source": [
    "warnings.simplefilter(action=\"ignore\", category=FutureWarning)"
   ]
  },
  {
   "cell_type": "code",
   "execution_count": null,
   "metadata": {},
   "outputs": [],
   "source": [
    "device = \"GPU\"\n",
    "physicalDevices = tf.config.experimental.list_physical_devices(device)\n",
    "print(f\"available GPU count: {len(physicalDevices)}\")\n",
    "if len(physicalDevices) > 0:\n",
    "    tf.config.experimental.set_memory_growth(physicalDevices[0])"
   ]
  },
  {
   "cell_type": "code",
   "execution_count": null,
   "metadata": {},
   "outputs": [],
   "source": [
    "os.chdir(\"data/dogs-vs-cats\")\n",
    "force = True\n",
    "if os.path.isdir(\"train/cat\") is False:\n",
    "    os.makedirs(\"train/cat\")\n",
    "    os.makedirs(\"valid/cat\")\n",
    "    os.makedirs(\"test/cat\")\n",
    "    os.makedirs(\"train/dog\")\n",
    "    os.makedirs(\"valid/dog\")\n",
    "    os.makedirs(\"test/dog\")\n",
    "    for image in random.sample(glob.glob(\"train/cat*\"), 500):\n",
    "        shutil.move(image, \"train/cat\")\n",
    "    for image in random.sample(glob.glob(\"train/cat*\"), 100):\n",
    "        shutil.move(image, \"valid/cat\")\n",
    "    for image in random.sample(glob.glob(\"train/cat*\"), 50):\n",
    "        shutil.move(image, \"test/cat\")\n",
    "    for image in random.sample(glob.glob(\"train/dog*\"), 500):\n",
    "        shutil.move(image, \"train/dog\")\n",
    "    for image in random.sample(glob.glob(\"train/dog*\"), 100):\n",
    "        shutil.move(image, \"valid/dog\")\n",
    "    for image in random.sample(glob.glob(\"train/dog*\"), 50):\n",
    "        shutil.move(image, \"test/dog\")\n",
    "    os.chdir(\"../../\")"
   ]
  },
  {
   "cell_type": "code",
   "execution_count": null,
   "metadata": {},
   "outputs": [],
   "source": [
    "trainPath = \"data/dogs-vs-cats/train\"\n",
    "validPath = \"data/dogs-vs-cats/valid\"\n",
    "testPath = \"data/dogs-vs-cats/test\"\n",
    "if \"valid\" in os.listdir():\n",
    "    trainPath = \"train\"\n",
    "    validPath = \"valid\"\n",
    "    testPath = \"test\"\n",
    "os.listdir()"
   ]
  },
  {
   "cell_type": "code",
   "execution_count": null,
   "metadata": {},
   "outputs": [],
   "source": [
    "trainBatches = ImageDataGenerator(\n",
    "    preprocessing_function=keras.applications.vgg16.preprocess_input\n",
    ").flow_from_directory(\n",
    "    directory=trainPath,\n",
    "    target_size=(244, 244),\n",
    "    classes=[\"cat\", \"dog\"],\n",
    "    batch_size=10,\n",
    "    shuffle=True\n",
    ")\n",
    "validBatches = ImageDataGenerator(\n",
    "    preprocessing_function=keras.applications.vgg16.preprocess_input\n",
    ").flow_from_directory(\n",
    "    directory=validPath,\n",
    "    target_size=(244, 244),\n",
    "    classes=[\"cat\", \"dog\"],\n",
    "    batch_size=10,\n",
    "    shuffle=True\n",
    ")\n",
    "testBatches = ImageDataGenerator(\n",
    "    preprocessing_function=keras.applications.vgg16.preprocess_input\n",
    ").flow_from_directory(\n",
    "    directory=testPath,\n",
    "    target_size=(244, 244),\n",
    "    classes=[\"cat\", \"dog\"],\n",
    "    batch_size=10,\n",
    "    shuffle=False\n",
    ")"
   ]
  },
  {
   "cell_type": "code",
   "execution_count": null,
   "metadata": {},
   "outputs": [],
   "source": [
    "assert trainBatches.n == 1000\n",
    "assert validBatches.n == 200\n",
    "assert testBatches.n == 100\n",
    "assert trainBatches.num_classes == 2\n",
    "assert validBatches.num_classes == 2\n",
    "assert testBatches.num_classes == 2"
   ]
  },
  {
   "cell_type": "code",
   "execution_count": null,
   "metadata": {},
   "outputs": [],
   "source": [
    "def plotImages(imageArray):\n",
    "    figure, axis = plt.subplots(1, 10, figsize =(20, 20))\n",
    "    axis = axis.flatten()\n",
    "    for image, ax in zip(imageArray, axis):\n",
    "        ax.imshow(image)\n",
    "        ax.axis(\"off\")\n",
    "    plt.tight_layout()\n",
    "    plt.show()"
   ]
  },
  {
   "cell_type": "code",
   "execution_count": null,
   "metadata": {},
   "outputs": [],
   "source": [
    "# images, labels = next(trainBatches)\n",
    "# plotImages(images)\n",
    "# print(labels)"
   ]
  },
  {
   "cell_type": "code",
   "execution_count": null,
   "metadata": {},
   "outputs": [],
   "source": [
    "model = Sequential([\n",
    "    Conv2D(\n",
    "        filters=32, \n",
    "        kernel_size=(3, 3), \n",
    "        activation='relu', \n",
    "        padding='same', \n",
    "        input_shape=(244, 244, 3)\n",
    "    ),\n",
    "    MaxPool2D(pool_size=(2, 2), strides=2),\n",
    "    Conv2D(filters=64, kernel_size=(3, 3), activation='relu', padding='same'),\n",
    "    MaxPool2D(pool_size=(2, 2), strides=2),\n",
    "    Flatten(),\n",
    "    Dense(units=2, activation=\"softmax\")\n",
    "])"
   ]
  },
  {
   "cell_type": "code",
   "execution_count": null,
   "metadata": {},
   "outputs": [],
   "source": [
    "model.summary()"
   ]
  },
  {
   "cell_type": "code",
   "execution_count": null,
   "metadata": {},
   "outputs": [],
   "source": [
    "model.compile(\n",
    "    optimizer=Adam(learning_rate=0.0001), \n",
    "    loss=\"categorical_crossentropy\", \n",
    "    metrics=[\"accuracy\"]\n",
    ")"
   ]
  },
  {
   "cell_type": "code",
   "execution_count": null,
   "metadata": {},
   "outputs": [],
   "source": [
    "model.fit(x=trainBatches, validation_data=validBatches, epochs=10, verbose=2)"
   ]
  },
  {
   "cell_type": "code",
   "execution_count": null,
   "metadata": {},
   "outputs": [],
   "source": [
    "model.save(\"dogs_vs_cats.h5\")"
   ]
  }
 ],
 "metadata": {
  "kernelspec": {
   "display_name": "Python 3",
   "language": "python",
   "name": "python3"
  },
  "language_info": {
   "codemirror_mode": {
    "name": "ipython",
    "version": 3
   },
   "file_extension": ".py",
   "mimetype": "text/x-python",
   "name": "python",
   "nbconvert_exporter": "python",
   "pygments_lexer": "ipython3",
   "version": "3.11.5"
  },
  "orig_nbformat": 4
 },
 "nbformat": 4,
 "nbformat_minor": 2
}
